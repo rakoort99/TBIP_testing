{
  "nbformat": 4,
  "nbformat_minor": 0,
  "metadata": {
    "colab": {
      "provenance": [],
      "gpuType": "T4"
    },
    "kernelspec": {
      "name": "python3",
      "display_name": "Python 3"
    },
    "language_info": {
      "name": "python"
    },
    "accelerator": "GPU"
  },
  "cells": [
    {
      "cell_type": "code",
      "execution_count": 1,
      "metadata": {
        "id": "ec-x1EfUOFY2"
      },
      "outputs": [],
      "source": [
        "%%capture\n",
        "%pip install numpyro==0.10.1\n",
        "%pip install optax\n",
        "%pip install -U jax jaxlib"
      ]
    },
    {
      "cell_type": "code",
      "source": [
        "! git clone https://github.com/rakoort99/TBIP_testing\n",
        "\n"
      ],
      "metadata": {
        "colab": {
          "base_uri": "https://localhost:8080/"
        },
        "id": "3a3c_4DRONw3",
        "outputId": "8a7907fb-3b3f-4eed-d7f5-349a9c5a3c28"
      },
      "execution_count": 2,
      "outputs": [
        {
          "output_type": "stream",
          "name": "stdout",
          "text": [
            "Cloning into 'TBIP_testing'...\n",
            "remote: Enumerating objects: 90, done.\u001b[K\n",
            "remote: Counting objects: 100% (90/90), done.\u001b[K\n",
            "remote: Compressing objects: 100% (67/67), done.\u001b[K\n",
            "remote: Total 90 (delta 27), reused 70 (delta 20), pack-reused 0\u001b[K\n",
            "Unpacking objects: 100% (90/90), 6.97 MiB | 4.98 MiB/s, done.\n"
          ]
        }
      ]
    },
    {
      "cell_type": "code",
      "source": [
        "from jax import random\n",
        "\n",
        "num_topics = 30\n",
        "rng_seed = random.PRNGKey(0)"
      ],
      "metadata": {
        "id": "sZjX1Cv7OV0U"
      },
      "execution_count": 107,
      "outputs": []
    },
    {
      "cell_type": "code",
      "source": [
        "from scipy import sparse\n",
        "import jax\n",
        "import jax.numpy as jnp\n",
        "import numpy as np\n",
        "\n",
        "dataPath = \"TBIP_testing/data/paradigms/clean/\"\n",
        "\n",
        "# Load data\n",
        "author_indices = jax.device_put(\n",
        "    jnp.load(dataPath + \"author_indices.npy\"), jax.devices(\"gpu\")[0]\n",
        ")\n",
        "\n",
        "counts = sparse.load_npz(dataPath + \"counts.npz\")\n",
        "\n",
        "with open(dataPath + \"vocabulary.txt\", \"r\") as f:\n",
        "    vocabulary = f.readlines()\n",
        "\n",
        "with open(dataPath + \"author_map.txt\", \"r\") as f:\n",
        "    author_map = f.readlines()\n",
        "\n",
        "author_map = np.array(author_map)\n",
        "\n",
        "num_authors = int(author_indices.max() + 1)\n",
        "num_documents, num_words = counts.shape\n",
        "\n",
        "print('num_docs:', num_documents)\n",
        "print('num_authors', num_authors)\n",
        "print('dim authormap', author_map.shape)\n",
        "print('dim author indices', author_indices.shape)\n"
      ],
      "metadata": {
        "colab": {
          "base_uri": "https://localhost:8080/"
        },
        "id": "EjHpfwsN7UiT",
        "outputId": "03660600-b57f-4d67-cacf-bca0d4543df5"
      },
      "execution_count": 108,
      "outputs": [
        {
          "output_type": "stream",
          "name": "stdout",
          "text": [
            "num_docs: 1806\n",
            "num_authors 1816\n",
            "dim authormap (1816,)\n",
            "dim author indices (1806,)\n"
          ]
        }
      ]
    },
    {
      "cell_type": "code",
      "source": [
        "pre_initialize_parameters = True"
      ],
      "metadata": {
        "id": "fUYk1s3778xa"
      },
      "execution_count": 109,
      "outputs": []
    },
    {
      "cell_type": "code",
      "source": [
        "# Fit NMF to be used as initialization for TBIP\n",
        "from sklearn.decomposition import NMF\n",
        "\n",
        "if pre_initialize_parameters:\n",
        "    nmf_model = NMF(\n",
        "        n_components=num_topics, init=\"random\", random_state=0, max_iter=500\n",
        "    )\n",
        "    # Define initialization arrays\n",
        "    initial_document_loc = jnp.log(\n",
        "        jnp.array(np.float32(nmf_model.fit_transform(counts) + 1e-2))\n",
        "    )\n",
        "    initial_objective_topic_loc = jnp.log(\n",
        "        jnp.array(np.float32(nmf_model.components_ + 1e-2))\n",
        "    )\n",
        "else:\n",
        "    rng1, rng2 = random.split(rng_seed, 2)\n",
        "    initial_document_loc = random.normal(rng1, shape=(num_documents, num_topics))\n",
        "    initial_objective_topic_loc = random.normal(rng2, shape=(num_topics, num_words))"
      ],
      "metadata": {
        "id": "mzAVOWQX79JU"
      },
      "execution_count": 110,
      "outputs": []
    },
    {
      "cell_type": "code",
      "source": [
        "from numpyro import plate, sample, param\n",
        "import numpyro.distributions as dist\n",
        "from numpyro.distributions import constraints\n",
        "\n",
        "# Define the model and variational family\n",
        "\n",
        "\n",
        "class TBIP:\n",
        "    def __init__(self, N, D, K, V, batch_size, init_mu_theta=None, init_mu_beta=None):\n",
        "        self.N = N  # number of people\n",
        "        self.D = D  # number of documents\n",
        "        self.K = K  # number of topics\n",
        "        self.V = V  # number of words in vocabulary\n",
        "        self.batch_size = batch_size  # number of documents in a batch\n",
        "\n",
        "        if init_mu_theta is None:\n",
        "            init_mu_theta = jnp.zeros([D, K])\n",
        "        else:\n",
        "            self.init_mu_theta = init_mu_theta\n",
        "\n",
        "        if init_mu_beta is None:\n",
        "            init_mu_beta = jnp.zeros([K, V])\n",
        "        else:\n",
        "            self.init_mu_beta = init_mu_beta\n",
        "\n",
        "    def model(self, Y_batch, d_batch, i_batch):\n",
        "        with plate(\"i\", self.N):\n",
        "            # Sample the per-unit latent variables (ideal points)\n",
        "            x = sample(\"x\", dist.Normal())\n",
        "\n",
        "        with plate(\"k\", size=self.K, dim=-2):\n",
        "            with plate(\"k_v\", size=self.V, dim=-1):\n",
        "                beta = sample(\"beta\", dist.Gamma(0.3, 0.3))\n",
        "                eta = sample(\"eta\", dist.Normal())\n",
        "\n",
        "        with plate(\"d\", size=self.D, subsample_size=self.batch_size, dim=-2):\n",
        "            with plate(\"d_k\", size=self.K, dim=-1):\n",
        "                # Sample document-level latent variables (topic intensities)\n",
        "                theta = sample(\"theta\", dist.Gamma(0.3, 0.3))\n",
        "\n",
        "            # Compute Poisson rates for each word\n",
        "            P = jnp.sum(\n",
        "                jnp.expand_dims(theta, 2)\n",
        "                * jnp.expand_dims(beta, 0)\n",
        "                * jnp.exp(\n",
        "                    jnp.expand_dims(x[i_batch], (1, 2)) * jnp.expand_dims(eta, 0)\n",
        "                ),\n",
        "                1,\n",
        "            )\n",
        "\n",
        "            with plate(\"v\", size=self.V, dim=-1):\n",
        "                # Sample observed words\n",
        "                sample(\"Y_batch\", dist.Poisson(P), obs=Y_batch)\n",
        "\n",
        "    def guide(self, Y_batch, d_batch, i_batch):\n",
        "        # This defines variational family. Notice that each of the latent variables\n",
        "        # defined in the sample statements in the model above has a corresponding\n",
        "        # sample statement in the guide. The guide is responsible for providing\n",
        "        # variational parameters for each of these latent variables.\n",
        "\n",
        "        # Also notice it is required that model and the guide have the same call.\n",
        "\n",
        "        mu_x = param(\n",
        "            \"mu_x\", init_value=-1 + 2 * random.uniform(random.PRNGKey(1), (self.N,))\n",
        "        )\n",
        "        sigma_x = param(\n",
        "            \"sigma_y\", init_value=jnp.ones([self.N]), constraint=constraints.positive\n",
        "        )\n",
        "\n",
        "        mu_eta = param(\n",
        "            \"mu_eta\", init_value=random.normal(random.PRNGKey(2), (self.K, self.V))\n",
        "        )\n",
        "        sigma_eta = param(\n",
        "            \"sigma_eta\",\n",
        "            init_value=jnp.ones([self.K, self.V]),\n",
        "            constraint=constraints.positive,\n",
        "        )\n",
        "\n",
        "        mu_theta = param(\"mu_theta\", init_value=self.init_mu_theta)\n",
        "        sigma_theta = param(\n",
        "            \"sigma_theta\",\n",
        "            init_value=jnp.ones([self.D, self.K]),\n",
        "            constraint=constraints.positive,\n",
        "        )\n",
        "\n",
        "        mu_beta = param(\"mu_beta\", init_value=self.init_mu_beta)\n",
        "        sigma_beta = param(\n",
        "            \"sigma_beta\",\n",
        "            init_value=jnp.ones([self.K, self.V]),\n",
        "            constraint=constraints.positive,\n",
        "        )\n",
        "\n",
        "        with plate(\"i\", self.N):\n",
        "            sample(\"x\", dist.Normal(mu_x, sigma_x))\n",
        "\n",
        "        with plate(\"k\", size=self.K, dim=-2):\n",
        "            with plate(\"k_v\", size=self.V, dim=-1):\n",
        "                sample(\"beta\", dist.LogNormal(mu_beta, sigma_beta))\n",
        "                sample(\"eta\", dist.Normal(mu_eta, sigma_eta))\n",
        "\n",
        "        with plate(\"d\", size=self.D, subsample_size=self.batch_size, dim=-2):\n",
        "            with plate(\"d_k\", size=self.K, dim=-1):\n",
        "                sample(\"theta\", dist.LogNormal(mu_theta[d_batch], sigma_theta[d_batch]))\n",
        "\n",
        "    def get_batch(self, rng, Y, author_indices):\n",
        "        # Helper functions to obtain a batch of data, convert from scipy.sparse\n",
        "        # to jax.numpy.array and move to gpu\n",
        "\n",
        "        D_batch = random.choice(rng, jnp.arange(self.D), shape=(self.batch_size,))\n",
        "        Y_batch = jax.device_put(jnp.array(Y[D_batch].toarray()), jax.devices(\"gpu\")[0])\n",
        "        D_batch = jax.device_put(D_batch, jax.devices(\"gpu\")[0])\n",
        "        I_batch = author_indices[D_batch]\n",
        "        return Y_batch, I_batch, D_batch"
      ],
      "metadata": {
        "id": "UJ0JWXD8eCyM"
      },
      "execution_count": 111,
      "outputs": []
    },
    {
      "cell_type": "code",
      "source": [
        "from numpyro import plate, sample, param\n",
        "import numpyro.distributions as dist\n",
        "from numpyro.distributions import constraints\n",
        "from numpyro.infer.autoguide import AutoNormal\n",
        "# Define the model and variational family\n",
        "\n",
        "\n",
        "class TBIP:\n",
        "    def __init__(self, N, D, K, V, batch_size, init_mu_theta=None, init_mu_beta=None):\n",
        "        self.N = N  # number of people\n",
        "        self.D = D  # number of documents\n",
        "        self.K = K  # number of topics\n",
        "        self.V = V  # number of words in vocabulary\n",
        "        self.batch_size = batch_size  # number of documents in a batch\n",
        "\n",
        "        if init_mu_theta is None:\n",
        "            init_mu_theta = jnp.zeros([D, K])\n",
        "        else:\n",
        "            self.init_mu_theta = init_mu_theta\n",
        "\n",
        "        if init_mu_beta is None:\n",
        "            init_mu_beta = jnp.zeros([K, V])\n",
        "        else:\n",
        "            self.init_mu_beta = init_mu_beta\n",
        "\n",
        "    def model(self, Y_batch, d_batch, i_batch):\n",
        "\n",
        "        with plate(\"k\", size=self.K, dim=-2):\n",
        "            with plate(\"i_k\", self.N, dim=-3):\n",
        "                x = sample(\"x\", dist.Normal())\n",
        "            with plate(\"k_v\", size=self.V, dim=-1):\n",
        "                beta = sample(\"beta\", dist.Gamma(0.3, 0.3))\n",
        "                eta = sample(\"eta\", dist.Normal())\n",
        "        print(\"x shape:\", x.shape)\n",
        "        print(\"beta shape:\", beta.shape)\n",
        "        print(\"eta shape:\", eta.shape)\n",
        "\n",
        "        with plate(\"d\", size=self.D, subsample_size=self.batch_size, dim=-2):\n",
        "            with plate(\"d_k\", size=self.K, dim=-1):\n",
        "                # Sample document-level latent variables (topic intensities)\n",
        "                theta = sample(\"theta\", dist.Gamma(0.3, 0.3))\n",
        "            print(\"theta shape:\", theta.shape)\n",
        "            # Compute Poisson rates for each word\n",
        "\n",
        "            P = jnp.sum(\n",
        "                jnp.expand_dims(theta, 2)\n",
        "                * jnp.expand_dims(beta, 0)\n",
        "                * jnp.exp(\n",
        "                    x[i_batch] * jnp.expand_dims(eta, 0)\n",
        "                ),\n",
        "                1,\n",
        "            )\n",
        "            print(\"p:\", P.shape)\n",
        "            with plate(\"v\", size=self.V, dim=-1):\n",
        "                # Sample observed words\n",
        "                sample(\"Y_batch\", dist.Poisson(P), obs=Y_batch)\n",
        "        # print(\"theta shape:\", theta.shape)\n",
        "\n",
        "    def guide(self, Y_batch, d_batch, i_batch):\n",
        "        # This defines variational family. Notice that each of the latent variables\n",
        "        # defined in the sample statements in the model above has a corresponding\n",
        "        # sample statement in the guide. The guide is responsible for providing\n",
        "        # variational parameters for each of these latent variables.\n",
        "\n",
        "        # Also notice it is required that model and the guide have the same call.\n",
        "        # AutoNormal(model=self.model, init_loc_fn={\"beta\": self.init_mu_beta, \"theta\": self.init_mu_theta},\n",
        "        #   )\n",
        "        mu_x = param(\n",
        "            \"mu_x\", init_value=-1 + 2 * random.uniform(random.PRNGKey(1), (self.N,self.K,1))\n",
        "        )\n",
        "        sigma_x = param(\n",
        "            \"sigma_y\", init_value=jnp.ones([self.N,self.K,1]), constraint=constraints.positive\n",
        "        )\n",
        "\n",
        "        mu_eta = param(\n",
        "            \"mu_eta\", init_value=random.normal(random.PRNGKey(2), (self.K, self.V))\n",
        "        )\n",
        "        sigma_eta = param(\n",
        "            \"sigma_eta\",\n",
        "            init_value=jnp.ones([self.K, self.V]),\n",
        "            constraint=constraints.positive,\n",
        "        )\n",
        "\n",
        "        mu_theta = param(\"mu_theta\", init_value=self.init_mu_theta)\n",
        "        sigma_theta = param(\n",
        "            \"sigma_theta\",\n",
        "            init_value=jnp.ones([self.D, self.K]),\n",
        "            constraint=constraints.positive,\n",
        "        )\n",
        "\n",
        "        mu_beta = param(\"mu_beta\", init_value=self.init_mu_beta)\n",
        "        sigma_beta = param(\n",
        "            \"sigma_beta\",\n",
        "            init_value=jnp.ones([self.K, self.V]),\n",
        "            constraint=constraints.positive,\n",
        "        )\n",
        "        with plate(\"k\", size=self.K, dim=-2):\n",
        "            with plate(\"i_k\", self.N, dim=-3):\n",
        "                sample(\"x\", dist.Normal(mu_x, sigma_x))\n",
        "\n",
        "            with plate(\"k_v\", size=self.V, dim=-1):\n",
        "                sample(\"beta\", dist.LogNormal(mu_beta, sigma_beta))\n",
        "                sample(\"eta\", dist.Normal(mu_eta, sigma_eta))\n",
        "\n",
        "\n",
        "        with plate(\"d\", size=self.D, subsample_size=self.batch_size, dim=-2):\n",
        "            with plate(\"d_k\", size=self.K, dim=-1):\n",
        "                # Sample document-level latent variables (topic intensities)\n",
        "                sample(\"theta\", dist.LogNormal(mu_theta[d_batch], sigma_theta[d_batch]))\n",
        "\n",
        "    def get_batch(self, rng, Y, author_indices):\n",
        "        # Helper functions to obtain a batch of data, convert from scipy.sparse\n",
        "        # to jax.numpy.array and move to gpu\n",
        "\n",
        "        D_batch = random.choice(rng, jnp.arange(self.D), shape=(self.batch_size,))\n",
        "        Y_batch = jax.device_put(jnp.array(Y[D_batch].toarray()), jax.devices(\"gpu\")[0])\n",
        "        D_batch = jax.device_put(D_batch, jax.devices(\"gpu\")[0])\n",
        "        I_batch = author_indices[D_batch]\n",
        "        return Y_batch, I_batch, D_batch"
      ],
      "metadata": {
        "id": "iujK2LZJ9HUV"
      },
      "execution_count": 112,
      "outputs": []
    },
    {
      "cell_type": "code",
      "source": [
        "# Initialize the model\n",
        "from optax import adam, exponential_decay\n",
        "from numpyro.infer import SVI, TraceMeanField_ELBO\n",
        "from jax import jit\n",
        "\n",
        "num_steps = 50000\n",
        "batch_size = 512  # Large batches are recommended\n",
        "learning_rate = 0.01\n",
        "decay_rate = 0.01\n",
        "\n",
        "tbip = TBIP(\n",
        "    N=num_authors,\n",
        "    D=num_documents,\n",
        "    K=num_topics,\n",
        "    V=num_words,\n",
        "    batch_size=batch_size,\n",
        "    init_mu_theta=initial_document_loc,\n",
        "    init_mu_beta=initial_objective_topic_loc,\n",
        ")\n",
        "\n",
        "svi_batch = SVI(\n",
        "    model=tbip.model,\n",
        "    guide=tbip.guide,\n",
        "    optim=adam(exponential_decay(learning_rate, num_steps, decay_rate)),\n",
        "    loss=TraceMeanField_ELBO(),\n",
        ")\n",
        "\n",
        "# Compile update function for faster training\n",
        "svi_batch_update = jit(svi_batch.update)\n",
        "\n",
        "# Get initial batch. This informs the dimension of arrays and ensures they are\n",
        "# consistent with dimensions (N, D, K, V) defined above.\n",
        "Y_batch, I_batch, D_batch = tbip.get_batch(random.PRNGKey(1), counts, author_indices)\n",
        "\n",
        "# Initialize the parameters using initial batch\n",
        "svi_state = svi_batch.init(\n",
        "    random.PRNGKey(0), Y_batch=Y_batch, d_batch=D_batch, i_batch=I_batch\n",
        ")"
      ],
      "metadata": {
        "id": "cL9x0A709iHr",
        "colab": {
          "base_uri": "https://localhost:8080/"
        },
        "outputId": "2203c0c9-5a43-4ef6-f6c0-5baac0cddb35"
      },
      "execution_count": 113,
      "outputs": [
        {
          "output_type": "stream",
          "name": "stdout",
          "text": [
            "x shape: (1816, 30, 1)\n",
            "beta shape: (30, 9752)\n",
            "eta shape: (30, 9752)\n",
            "theta shape: (512, 30)\n",
            "p: (512, 9752)\n"
          ]
        }
      ]
    },
    {
      "cell_type": "code",
      "source": [],
      "metadata": {
        "id": "XXc5_7mUlKdp"
      },
      "execution_count": 113,
      "outputs": []
    },
    {
      "cell_type": "code",
      "source": [
        "# @title Run this cell to create helper function for printing topics\n",
        "\n",
        "\n",
        "def get_topics(\n",
        "    neutral_mean, negative_mean, positive_mean, vocabulary, print_to_terminal=True\n",
        "):\n",
        "    num_topics, num_words = neutral_mean.shape\n",
        "    words_per_topic = 10\n",
        "    top_neutral_words = np.argsort(-neutral_mean, axis=1)\n",
        "    top_negative_words = np.argsort(-negative_mean, axis=1)\n",
        "    top_positive_words = np.argsort(-positive_mean, axis=1)\n",
        "    topic_strings = []\n",
        "    for topic_idx in range(num_topics):\n",
        "        neutral_start_string = \"Neutral  {}:\".format(topic_idx)\n",
        "        neutral_row = [\n",
        "            vocabulary[word] for word in top_neutral_words[topic_idx, :words_per_topic]\n",
        "        ]\n",
        "        neutral_row_string = \", \".join(neutral_row)\n",
        "        neutral_string = \" \".join([neutral_start_string, neutral_row_string])\n",
        "\n",
        "        positive_start_string = \"Positive {}:\".format(topic_idx)\n",
        "        positive_row = [\n",
        "            vocabulary[word] for word in top_positive_words[topic_idx, :words_per_topic]\n",
        "        ]\n",
        "        positive_row_string = \", \".join(positive_row)\n",
        "        positive_string = \" \".join([positive_start_string, positive_row_string])\n",
        "\n",
        "        negative_start_string = \"Negative {}:\".format(topic_idx)\n",
        "        negative_row = [\n",
        "            vocabulary[word] for word in top_negative_words[topic_idx, :words_per_topic]\n",
        "        ]\n",
        "        negative_row_string = \", \".join(negative_row)\n",
        "        negative_string = \" \".join([negative_start_string, negative_row_string])\n",
        "\n",
        "        if print_to_terminal:\n",
        "            topic_strings.append(negative_string)\n",
        "            topic_strings.append(neutral_string)\n",
        "            topic_strings.append(positive_string)\n",
        "            topic_strings.append(\"==========\")\n",
        "        else:\n",
        "            topic_strings.append(\n",
        "                \"  \\n\".join([negative_string, neutral_string, positive_string])\n",
        "            )\n",
        "\n",
        "    if print_to_terminal:\n",
        "        all_topics = \"{}\\n\".format(np.array(topic_strings))\n",
        "    else:\n",
        "        all_topics = np.array(topic_strings)\n",
        "    return all_topics"
      ],
      "metadata": {
        "id": "zRjKkX2J9_0X"
      },
      "execution_count": 114,
      "outputs": []
    },
    {
      "cell_type": "code",
      "source": [
        "# from numpyro import render_model\n",
        "# Y_batch, I_batch, D_batch = tbip.get_batch(random.PRNGKey(1), counts, author_indices)\n",
        "# render_model(tbip.model, (Y_batch, I_batch, D_batch))\n"
      ],
      "metadata": {
        "id": "FhtbazPkhBKh"
      },
      "execution_count": 115,
      "outputs": []
    },
    {
      "cell_type": "code",
      "source": [
        "# Run SVI\n",
        "from tqdm import tqdm\n",
        "import pandas as pd\n",
        "\n",
        "print_steps = 100\n",
        "print_intermediate_results = False\n",
        "\n",
        "rngs = random.split(random.PRNGKey(2), num_steps)\n",
        "losses = []\n",
        "pbar = tqdm(range(num_steps))\n",
        "\n",
        "\n",
        "for step in pbar:\n",
        "    Y_batch, I_batch, D_batch = tbip.get_batch(rngs[step], counts, author_indices)\n",
        "    svi_state, loss = svi_batch_update(\n",
        "        svi_state, Y_batch=Y_batch, d_batch=D_batch, i_batch=I_batch\n",
        "    )\n",
        "\n",
        "    loss = loss / counts.shape[0]\n",
        "    losses.append(loss)\n",
        "    if step % print_steps == 0 or step == num_steps - 1:\n",
        "        pbar.set_description(\n",
        "            \"Init loss: \"\n",
        "            + \"{:10.4f}\".format(jnp.array(losses[0]))\n",
        "            + f\"; Avg loss (last {print_steps} iter): \"\n",
        "            + \"{:10.4f}\".format(jnp.array(losses[-100:]).mean())\n",
        "        )\n",
        "\n",
        "    if (step + 1) % 2500 == 0 or step == num_steps - 1:\n",
        "        # Save intermediate results\n",
        "        estimated_params = svi_batch.get_params(svi_state)\n",
        "\n",
        "        neutral_mean = (\n",
        "            estimated_params[\"mu_beta\"] + estimated_params[\"sigma_beta\"] ** 2 / 2\n",
        "        )\n",
        "\n",
        "        positive_mean = (\n",
        "            estimated_params[\"mu_beta\"]\n",
        "            + estimated_params[\"mu_eta\"]\n",
        "            + (estimated_params[\"sigma_beta\"] ** 2 + estimated_params[\"sigma_eta\"] ** 2)\n",
        "            / 2\n",
        "        )\n",
        "\n",
        "        negative_mean = (\n",
        "            estimated_params[\"mu_beta\"]\n",
        "            - estimated_params[\"mu_eta\"]\n",
        "            + (estimated_params[\"sigma_beta\"] ** 2 + estimated_params[\"sigma_eta\"] ** 2)\n",
        "            / 2\n",
        "        )\n",
        "\n",
        "        np.save(\"neutral_topic_mean.npy\", neutral_mean)\n",
        "        np.save(\"negative_topic_mean.npy\", positive_mean)\n",
        "        np.save(\"positive_topic_mean.npy\", negative_mean)\n",
        "\n",
        "        topics = get_topics(neutral_mean, positive_mean, negative_mean, vocabulary)\n",
        "\n",
        "        with open(\"topics.txt\", \"w\") as f:\n",
        "            print(topics, file=f)\n",
        "        IP_dict = {}\n",
        "        IP_dict[\"name\"] = author_map\n",
        "        for i in range(estimated_params[\"mu_x\"].shape[1]):\n",
        "            IP_dict[f'ideal_point_{i}'] = jnp.ravel(estimated_params[\"mu_x\"][:,i,:])\n",
        "        authors = pd.DataFrame(\n",
        "            IP_dict\n",
        "        )\n",
        "        authors.to_csv(\"authors.csv\")\n",
        "\n",
        "        if print_intermediate_results:\n",
        "            print(f\"Results after {step} steps.\")\n",
        "            print(topics)\n",
        "            sorted_authors = \"Authors sorted by their ideal points: \" + \",\".join(\n",
        "                list(authors.sort_values(\"ideal_point\")[\"name\"])\n",
        "            )\n",
        "            print(sorted_authors.replace(\"\\n\", \" \"))"
      ],
      "metadata": {
        "colab": {
          "base_uri": "https://localhost:8080/"
        },
        "id": "17ZjXgRs-E5D",
        "outputId": "7bd6fa9a-508c-4394-e75c-f6551b9082c8"
      },
      "execution_count": 116,
      "outputs": [
        {
          "output_type": "stream",
          "name": "stderr",
          "text": [
            "\r  0%|          | 0/50000 [00:00<?, ?it/s]"
          ]
        },
        {
          "output_type": "stream",
          "name": "stdout",
          "text": [
            "x shape: (1816, 30, 1)\n",
            "beta shape: (30, 9752)\n",
            "eta shape: (30, 9752)\n",
            "theta shape: (512, 30)\n",
            "p: (512, 9752)\n"
          ]
        },
        {
          "output_type": "stream",
          "name": "stderr",
          "text": [
            "Init loss: 3033758.5000; Avg loss (last 100 iter):  1611.9231:   5%|▍         | 2498/50000 [00:55<16:34, 47.75it/s]/usr/local/lib/python3.10/dist-packages/jax/_src/numpy/lax_numpy.py:3652: UserWarning: 'kind' argument to argsort is ignored; only 'stable' sorts are supported.\n",
            "  warnings.warn(\"'kind' argument to argsort is ignored; only 'stable' sorts \"\n",
            "Init loss: 3033758.5000; Avg loss (last 100 iter):   917.4506: 100%|██████████| 50000/50000 [17:47<00:00, 46.84it/s]\n"
          ]
        }
      ]
    },
    {
      "cell_type": "code",
      "source": [
        "import os\n",
        "import matplotlib.pyplot as plt\n",
        "import seaborn as sns\n",
        "\n",
        "neutral_topic_mean = np.load(\"neutral_topic_mean.npy\")\n",
        "negative_topic_mean = np.load(\"negative_topic_mean.npy\")\n",
        "positive_topic_mean = np.load(\"positive_topic_mean.npy\")\n",
        "authors = pd.read_csv(\"authors.csv\")\n",
        "authors[\"name\"]\n",
        "\n",
        "decoder = pd.read_csv(dataPath +'id_name_para.csv', index_col=0)['Judge Name']\n"
      ],
      "metadata": {
        "id": "29y7YgKY_dx6"
      },
      "execution_count": null,
      "outputs": []
    },
    {
      "cell_type": "code",
      "source": [
        "decoder"
      ],
      "metadata": {
        "colab": {
          "base_uri": "https://localhost:8080/"
        },
        "id": "rwh9HL-iVN5S",
        "outputId": "a4eb416f-7996-4a65-b6a9-73c0ac2b3c92"
      },
      "execution_count": null,
      "outputs": [
        {
          "output_type": "execute_result",
          "data": {
            "text/plain": [
              "Judge ID\n",
              "1              Chris Palmer\n",
              "3               Aaron Hardy\n",
              "319             Paul Wexler\n",
              "1057          Shunta Jordan\n",
              "1088            Bill Smelko\n",
              "                ...        \n",
              "508301            Elle Baez\n",
              "512630         Andrew Leong\n",
              "520399            Max Smith\n",
              "523149    Emilio Matos-Sola\n",
              "523323        Amber Benning\n",
              "Name: Judge Name, Length: 1816, dtype: object"
            ]
          },
          "metadata": {},
          "execution_count": 16
        }
      ]
    },
    {
      "cell_type": "code",
      "source": [
        "selected_authors = np.array(\n",
        "    [\n",
        "        \"Rob Glass\",\n",
        "        \"James Allan\",\n",
        "        \"Michael Wimsatt\",\n",
        "        \"Richard Garner\",\n",
        "        \"Austin Koort\",\n",
        "        \"Adrienne Brovero\",\n",
        "        \"Nyx Moore\",\n",
        "        \"Judd Kimball\",\n",
        "        \"Ayoka Wicks\",\n",
        "        \"Morgan Copeland\",\n",
        "        \"John Katsulas\",\n",
        "        \"Samuel Maurer\"\n",
        "    ]\n",
        ")\n",
        "\n",
        "sns.set(style=\"whitegrid\")\n",
        "fig = plt.figure(figsize=(12, 1))\n",
        "ax = plt.axes([0, 0, 1, 1], frameon=False)\n",
        "for index in range(authors.shape[0]):\n",
        "    ax.scatter(authors[\"ideal_point\"][index], 0, c=\"black\", s=20)\n",
        "    if decoder[authors[\"name\"][index]] in selected_authors:\n",
        "        ax.annotate(\n",
        "            decoder[authors[\"name\"][index]],\n",
        "            xy=(authors[\"ideal_point\"][index], 0.0),\n",
        "            xytext=(authors[\"ideal_point\"][index], 0),\n",
        "            rotation=30,\n",
        "            size=14,\n",
        "        )\n",
        "ax.set_yticks([])\n",
        "plt.show()\n",
        "\n"
      ],
      "metadata": {
        "colab": {
          "base_uri": "https://localhost:8080/",
          "height": 156
        },
        "id": "VTo1h_NYS-YD",
        "outputId": "cbdc002d-98e3-42eb-8b56-d9091481811a"
      },
      "execution_count": null,
      "outputs": [
        {
          "output_type": "display_data",
          "data": {
            "text/plain": [
              "<Figure size 1200x100 with 1 Axes>"
            ],
            "image/png": "[encoded data removed]"
          },
          "metadata": {}
        }
      ]
    },
    {
      "cell_type": "code",
      "source": [
        "get_topics(neutral_topic_mean, negative_topic_mean, positive_topic_mean, vocabulary)"
      ],
      "metadata": {
        "colab": {
          "base_uri": "https://localhost:8080/",
          "height": 177
        },
        "id": "MLGR-FFvXhyf",
        "outputId": "1e701a1b-8433-4ec7-ce37-99444abe3552"
      },
      "execution_count": null,
      "outputs": [
        {
          "output_type": "execute_result",
          "data": {
            "text/plain": [
              "\"['Negative 0: decision\\\\n, speeches\\\\n, part\\\\n, clash\\\\n, right\\\\n, persuasive\\\\n, were\\\\n, ndt\\\\n, two\\\\n, made\\\\n'\\n 'Neutral  0: activity\\\\n, decision\\\\n, community\\\\n, style\\\\n, line\\\\n, particular\\\\n, each\\\\n, issues\\\\n, role\\\\n, clarity\\\\n'\\n 'Positive 0: particular\\\\n, activity\\\\n, traditional\\\\n, rounds\\\\n, studies\\\\n, style\\\\n, possible\\\\n, argumentation\\\\n, view\\\\n, education\\\\n'\\n '=========='\\n 'Negative 1: longer\\\\n, now\\\\n, thats\\\\n, actually\\\\n, dumb\\\\n, voted\\\\n, love\\\\n, might\\\\n, hate\\\\n, once\\\\n'\\n 'Neutral  1: our\\\\n, now\\\\n, its\\\\n, us\\\\n, world\\\\n, life\\\\n, had\\\\n, words\\\\n, talk\\\\n, love\\\\n'\\n 'Positive 1: he\\\\n, our\\\\n, his\\\\n, us\\\\n, through\\\\n, politics\\\\n, black\\\\n, usma\\\\n, military\\\\n, had\\\\n'\\n '=========='\\n 'Negative 2: speed\\\\n, rules\\\\n, parli\\\\n, nfa ld\\\\n, run\\\\n, fine\\\\n, rounds\\\\n, slow down\\\\n, opponent\\\\n, weighing\\\\n'\\n 'Neutral  2: run\\\\n, speed\\\\n, performance\\\\n, open\\\\n, fun\\\\n, fine\\\\n, running\\\\n, rules\\\\n, end\\\\n, abuse\\\\n'\\n 'Positive 2: performance\\\\n, fun\\\\n, open\\\\n, explained\\\\n, enjoy\\\\n, run\\\\n, experience\\\\n, performative\\\\n, kritiks\\\\n, familiar\\\\n'\\n '=========='\\n 'Negative 3: may\\\\n, cases\\\\n, own\\\\n, standard\\\\n, ability\\\\n, opponent\\\\n, such\\\\n, earn\\\\n, same\\\\n, skills\\\\n'\\n 'Neutral  3: opponent\\\\n, opponents\\\\n, ideas\\\\n, such\\\\n, own\\\\n, resolution\\\\n, cx\\\\n, clash\\\\n, speeches\\\\n, ld\\\\n'\\n 'Positive 3: value\\\\n, opponent\\\\n, speeches\\\\n, weigh\\\\n, presented\\\\n, must\\\\n, opponents\\\\n, logic\\\\n, winning\\\\n, ld\\\\n'\\n '=========='\\n 'Negative 4: thing\\\\n, arg\\\\n, condo\\\\n, ev\\\\n, dont\\\\n, cx\\\\n, dropped\\\\n, args\\\\n, anything\\\\n, fine\\\\n'\\n 'Neutral  4: alt\\\\n, args\\\\n, fw\\\\n, perm\\\\n, ks\\\\n, cps\\\\n, fine\\\\n, condo\\\\n, whatever\\\\n, line\\\\n'\\n 'Positive 4: fw\\\\n, framing\\\\n, solve\\\\n, model\\\\n, perm\\\\n, education\\\\n, alt\\\\n, explanation\\\\n, clash\\\\n, tva\\\\n'\\n '=========='\\n 'Negative 5: new\\\\n, example\\\\n, non\\\\n, alternative\\\\n, fact\\\\n, whether\\\\n, did\\\\n, intervene\\\\n, absent\\\\n, without\\\\n'\\n 'Neutral  5: claim\\\\n, claims\\\\n, may\\\\n, approach\\\\n, game\\\\n, anything\\\\n, such\\\\n, example\\\\n, non\\\\n, decision\\\\n'\\n 'Positive 5: game\\\\n, burden\\\\n, action\\\\n, philosophy\\\\n, matter\\\\n, meaning\\\\n, competition\\\\n, claim\\\\n, anything\\\\n, true\\\\n'\\n '=========='\\n 'Negative 6: counterplan\\\\n, counterplans\\\\n, reason\\\\n, reject\\\\n, conditionality\\\\n, disad\\\\n, status quo\\\\n, willing\\\\n, usually\\\\n, risk\\\\n'\\n 'Neutral  6: counterplans\\\\n, interpretation\\\\n, alternative\\\\n, conditionality\\\\n, kritiks\\\\n, counterplan\\\\n, resolution\\\\n, reject\\\\n, default\\\\n, affirmatives\\\\n'\\n 'Positive 6: alternative\\\\n, world\\\\n, fairness\\\\n, concerning\\\\n, affirmatives\\\\n, interpretation\\\\n, politics\\\\n, method\\\\n, either\\\\n, defend\\\\n'\\n '=========='\\n 'Negative 7: fairness\\\\n, presumption\\\\n, threshold\\\\n, judges\\\\n, every\\\\n, likely\\\\n, reasonability\\\\n, kick\\\\n, risk\\\\n, reasonable\\\\n'\\n 'Neutral  7: fairness\\\\n, model\\\\n, seems\\\\n, fiat\\\\n, likely\\\\n, could\\\\n, less\\\\n, risk\\\\n, persuasive\\\\n, defend\\\\n'\\n 'Positive 7: power\\\\n, political\\\\n, model\\\\n, defend\\\\n, defense\\\\n, hypothetical\\\\n, strong\\\\n, structural\\\\n, fiat\\\\n, offense\\\\n'\\n '=========='\\n 'Negative 8: line\\\\n, clipping\\\\n, clarity\\\\n, cross ex\\\\n, after\\\\n, prep\\\\n, put\\\\n, timer\\\\n, prep time\\\\n, highlighting\\\\n'\\n 'Neutral  8: card\\\\n, answer\\\\n, line\\\\n, cx\\\\n, prep time\\\\n, speeches\\\\n, tend\\\\n, question\\\\n, after\\\\n, stop\\\\n'\\n 'Positive 8: state\\\\n, topical\\\\n, anti\\\\n, black\\\\n, identity\\\\n, answer\\\\n, tend\\\\n, question\\\\n, winning\\\\n, topical version\\\\n'\\n '=========='\\n 'Negative 9: disclosure\\\\n, pf\\\\n, wiki\\\\n, ld\\\\n, doc\\\\n, opponent\\\\n, speaks\\\\n, tournament\\\\n, send\\\\n, disclose\\\\n'\\n 'Neutral  9: high school\\\\n, ld\\\\n, stuff\\\\n, care\\\\n, email chain\\\\n, tournament\\\\n, year\\\\n, judged\\\\n, coach\\\\n, coached\\\\n'\\n 'Positive 9: high school\\\\n, hs\\\\n, coached\\\\n, ndt\\\\n, year\\\\n, judged\\\\n, now\\\\n, coaching\\\\n, familiar\\\\n, mostly\\\\n'\\n '==========']\\n\""
            ],
            "application/vnd.google.colaboratory.intrinsic+json": {
              "type": "string"
            }
          },
          "metadata": {},
          "execution_count": 18
        }
      ]
    }
  ]
}